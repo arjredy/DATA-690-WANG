{
  "nbformat": 4,
  "nbformat_minor": 0,
  "metadata": {
    "colab": {
      "name": "Assignment_3.ipynb",
      "provenance": [],
      "collapsed_sections": [],
      "authorship_tag": "ABX9TyMY4ABdYwaorCf2dNRC07mg",
      "include_colab_link": true
    },
    "kernelspec": {
      "name": "python3",
      "display_name": "Python 3"
    }
  },
  "cells": [
    {
      "cell_type": "markdown",
      "metadata": {
        "id": "view-in-github",
        "colab_type": "text"
      },
      "source": [
        "<a href=\"https://colab.research.google.com/github/arjredy/DATA-690-WANG/blob/master/Assignment_3.ipynb\" target=\"_parent\"><img src=\"https://colab.research.google.com/assets/colab-badge.svg\" alt=\"Open In Colab\"/></a>"
      ]
    },
    {
      "cell_type": "code",
      "metadata": {
        "id": "W7WsORO3q4-3",
        "colab_type": "code",
        "colab": {}
      },
      "source": [
        "# Importing Libraries\n",
        "import random\n",
        "import numpy as np"
      ],
      "execution_count": 1,
      "outputs": []
    },
    {
      "cell_type": "code",
      "metadata": {
        "id": "CFh6b6COq8qE",
        "colab_type": "code",
        "colab": {}
      },
      "source": [
        "a = np.random.randint(0,9,(10,10))"
      ],
      "execution_count": 2,
      "outputs": []
    },
    {
      "cell_type": "code",
      "metadata": {
        "id": "xRgWmS_0q8mL",
        "colab_type": "code",
        "colab": {
          "base_uri": "https://localhost:8080/",
          "height": 372
        },
        "outputId": "2adcfbc7-88d3-4c35-8f41-ff22257f9da7"
      },
      "source": [
        "# Printing all random numbers in a 10 x 10 matrix\n",
        "for i in a:\n",
        "  for j in i:\n",
        "    print(j,end=\" \")\n",
        "  print(\"\\n\")"
      ],
      "execution_count": 3,
      "outputs": [
        {
          "output_type": "stream",
          "text": [
            "6 6 6 2 6 8 3 4 8 1 \n",
            "\n",
            "6 1 7 4 6 5 7 2 5 6 \n",
            "\n",
            "5 4 1 4 3 0 4 1 8 6 \n",
            "\n",
            "4 0 1 6 6 6 2 5 4 3 \n",
            "\n",
            "3 8 2 0 2 1 3 0 0 0 \n",
            "\n",
            "4 4 7 6 6 1 0 6 6 1 \n",
            "\n",
            "5 4 0 8 2 1 4 8 6 5 \n",
            "\n",
            "7 3 6 6 2 8 5 3 6 6 \n",
            "\n",
            "8 3 8 6 0 1 6 4 6 6 \n",
            "\n",
            "5 2 3 5 5 3 6 2 8 8 \n",
            "\n"
          ],
          "name": "stdout"
        }
      ]
    },
    {
      "cell_type": "code",
      "metadata": {
        "id": "NKoeAZdMq8jr",
        "colab_type": "code",
        "colab": {
          "base_uri": "https://localhost:8080/",
          "height": 372
        },
        "outputId": "5254e4e8-7b85-4a71-be7a-0eeb31dd1da4"
      },
      "source": [
        "# Replacing odd numbers with @\n",
        "for i in a:\n",
        "  for j in i:\n",
        "    if j%2!=0:\n",
        "      print('@',end=\" \")\n",
        "    else:\n",
        "      print(j,end=' ')\n",
        "  print(\"\\n\")"
      ],
      "execution_count": 4,
      "outputs": [
        {
          "output_type": "stream",
          "text": [
            "6 6 6 2 6 8 @ 4 8 @ \n",
            "\n",
            "6 @ @ 4 6 @ @ 2 @ 6 \n",
            "\n",
            "@ 4 @ 4 @ 0 4 @ 8 6 \n",
            "\n",
            "4 0 @ 6 6 6 2 @ 4 @ \n",
            "\n",
            "@ 8 2 0 2 @ @ 0 0 0 \n",
            "\n",
            "4 4 @ 6 6 @ 0 6 6 @ \n",
            "\n",
            "@ 4 0 8 2 @ 4 8 6 @ \n",
            "\n",
            "@ @ 6 6 2 8 @ @ 6 6 \n",
            "\n",
            "8 @ 8 6 0 @ 6 4 6 6 \n",
            "\n",
            "@ 2 @ @ @ @ 6 2 8 8 \n",
            "\n"
          ],
          "name": "stdout"
        }
      ]
    },
    {
      "cell_type": "code",
      "metadata": {
        "id": "OzQMk70Jq8hz",
        "colab_type": "code",
        "colab": {
          "base_uri": "https://localhost:8080/",
          "height": 195
        },
        "outputId": "78f15b12-219a-4928-a11e-6f5d09dda729"
      },
      "source": [
        "#Printing the total of each row\n",
        "for i in a:\n",
        "  for j in i:\n",
        "    print(j,end=' ')\n",
        "  print('*',sum(i))"
      ],
      "execution_count": 5,
      "outputs": [
        {
          "output_type": "stream",
          "text": [
            "6 6 6 2 6 8 3 4 8 1 * 50\n",
            "6 1 7 4 6 5 7 2 5 6 * 49\n",
            "5 4 1 4 3 0 4 1 8 6 * 36\n",
            "4 0 1 6 6 6 2 5 4 3 * 37\n",
            "3 8 2 0 2 1 3 0 0 0 * 19\n",
            "4 4 7 6 6 1 0 6 6 1 * 41\n",
            "5 4 0 8 2 1 4 8 6 5 * 43\n",
            "7 3 6 6 2 8 5 3 6 6 * 52\n",
            "8 3 8 6 0 1 6 4 6 6 * 48\n",
            "5 2 3 5 5 3 6 2 8 8 * 47\n"
          ],
          "name": "stdout"
        }
      ]
    },
    {
      "cell_type": "code",
      "metadata": {
        "id": "bCBOyYkSq8eC",
        "colab_type": "code",
        "colab": {
          "base_uri": "https://localhost:8080/",
          "height": 230
        },
        "outputId": "5bc8c429-91e7-4e5f-9a7a-b27001d0833f"
      },
      "source": [
        "# Surrounding the matrix with asterisks (*)\n",
        "print('*'*23)\n",
        "for i in a:\n",
        "  print('*',end=\" \")\n",
        "  for j in i:\n",
        "    print(j,end=' ')\n",
        "  print('*',sum(i))\n",
        "print('*'*23)\n"
      ],
      "execution_count": 6,
      "outputs": [
        {
          "output_type": "stream",
          "text": [
            "***********************\n",
            "* 6 6 6 2 6 8 3 4 8 1 * 50\n",
            "* 6 1 7 4 6 5 7 2 5 6 * 49\n",
            "* 5 4 1 4 3 0 4 1 8 6 * 36\n",
            "* 4 0 1 6 6 6 2 5 4 3 * 37\n",
            "* 3 8 2 0 2 1 3 0 0 0 * 19\n",
            "* 4 4 7 6 6 1 0 6 6 1 * 41\n",
            "* 5 4 0 8 2 1 4 8 6 5 * 43\n",
            "* 7 3 6 6 2 8 5 3 6 6 * 52\n",
            "* 8 3 8 6 0 1 6 4 6 6 * 48\n",
            "* 5 2 3 5 5 3 6 2 8 8 * 47\n",
            "***********************\n"
          ],
          "name": "stdout"
        }
      ]
    },
    {
      "cell_type": "code",
      "metadata": {
        "id": "FlvdMCtWq8Ye",
        "colab_type": "code",
        "colab": {
          "base_uri": "https://localhost:8080/",
          "height": 248
        },
        "outputId": "2d82d8b7-43e9-4118-85c4-145aba425193"
      },
      "source": [
        "#Printing column sum and row sum\n",
        "\n",
        "print('*'*33)\n",
        "col_sum = [0]*10\n",
        "for i in a:\n",
        "  print('*',end=\" \")\n",
        "  index = 0\n",
        "  for j in i:\n",
        "    col_sum[index] += j\n",
        "    print(j,end='  ')\n",
        "    index+=1\n",
        "  print('*',sum(i))\n",
        "print('*'*33)\n",
        "print(''*2,end=\" \")\n",
        "for i in col_sum:\n",
        "  print(i,end=\" \")\n"
      ],
      "execution_count": 7,
      "outputs": [
        {
          "output_type": "stream",
          "text": [
            "*********************************\n",
            "* 6  6  6  2  6  8  3  4  8  1  * 50\n",
            "* 6  1  7  4  6  5  7  2  5  6  * 49\n",
            "* 5  4  1  4  3  0  4  1  8  6  * 36\n",
            "* 4  0  1  6  6  6  2  5  4  3  * 37\n",
            "* 3  8  2  0  2  1  3  0  0  0  * 19\n",
            "* 4  4  7  6  6  1  0  6  6  1  * 41\n",
            "* 5  4  0  8  2  1  4  8  6  5  * 43\n",
            "* 7  3  6  6  2  8  5  3  6  6  * 52\n",
            "* 8  3  8  6  0  1  6  4  6  6  * 48\n",
            "* 5  2  3  5  5  3  6  2  8  8  * 47\n",
            "*********************************\n",
            " 53 35 41 47 38 34 40 35 57 42 "
          ],
          "name": "stdout"
        }
      ]
    }
  ]
}