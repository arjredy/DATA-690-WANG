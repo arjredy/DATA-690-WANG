{
 "cells": [
  {
   "cell_type": "code",
   "execution_count": 1,
   "metadata": {},
   "outputs": [],
   "source": [
    "import random"
   ]
  },
  {
   "cell_type": "code",
   "execution_count": 10,
   "metadata": {},
   "outputs": [
    {
     "name": "stdout",
     "output_type": "stream",
     "text": [
      "*********************************\n",
      "* 0  @  @  2  @  2  @  8  2  2  * 32\n",
      "* 6  8  2  @  @  @  8  4  @  2  * 54\n",
      "* @  8  @  8  2  @  6  @  @  @  * 58\n",
      "* 2  @  2  @  @  8  8  8  4  4  * 45\n",
      "* @  8  2  @  @  2  6  @  @  @  * 68\n",
      "* 6  @  @  2  6  @  @  0  @  4  * 29\n",
      "* 2  8  2  @  @  @  4  @  6  @  * 51\n",
      "* @  4  @  0  8  @  @  @  8  @  * 42\n",
      "* @  0  @  0  8  6  8  @  @  0  * 40\n",
      "* 2  2  0  0  6  @  6  @  @  @  * 34\n",
      "*********************************\n",
      " 42 47 29 26 61 50 57 52 48 41 "
     ]
    }
   ],
   "source": [
    "print('*'*33)\n",
    "col_sum = [0]*10              # Assign the sum of columns as 0 \n",
    "for i in range(10):\n",
    "  summation = 0               # Initialize sum = 0\n",
    "  print(\"*\",end=\" \")\n",
    "  for j in range(10):\n",
    "    r = random.randint(0,9)   # Print random integers from 0 to 9\n",
    "    col_sum[j]+=r             # append the column values\n",
    "    summation+=r              # append the row values\n",
    "    if r%2==1:\n",
    "      print('@',end=\"  \")     # If the value is an odd number replace the number with '@'\n",
    "    else:\n",
    "      print(r,end=\"  \")       # If the value is an even number print the number\n",
    "  print('*',summation)        # Print * at end of each row and print the sum of the row at the end.\n",
    "print('*'*33)\n",
    "print(''*2,end=\" \")\n",
    "for i in col_sum:             # At the end of each column print the sum\n",
    "  print(i,end=\" \")"
   ]
  },
  {
   "cell_type": "code",
   "execution_count": null,
   "metadata": {},
   "outputs": [],
   "source": []
  },
  {
   "cell_type": "code",
   "execution_count": null,
   "metadata": {},
   "outputs": [],
   "source": []
  },
  {
   "cell_type": "code",
   "execution_count": null,
   "metadata": {},
   "outputs": [],
   "source": []
  },
  {
   "cell_type": "code",
   "execution_count": null,
   "metadata": {},
   "outputs": [],
   "source": []
  },
  {
   "cell_type": "code",
   "execution_count": null,
   "metadata": {},
   "outputs": [],
   "source": []
  },
  {
   "cell_type": "code",
   "execution_count": null,
   "metadata": {},
   "outputs": [],
   "source": []
  }
 ],
 "metadata": {
  "kernelspec": {
   "display_name": "Python 3",
   "language": "python",
   "name": "python3"
  },
  "language_info": {
   "codemirror_mode": {
    "name": "ipython",
    "version": 3
   },
   "file_extension": ".py",
   "mimetype": "text/x-python",
   "name": "python",
   "nbconvert_exporter": "python",
   "pygments_lexer": "ipython3",
   "version": "3.7.3"
  }
 },
 "nbformat": 4,
 "nbformat_minor": 2
}
