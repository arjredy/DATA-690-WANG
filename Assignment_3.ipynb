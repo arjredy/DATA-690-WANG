{
  "nbformat": 4,
  "nbformat_minor": 0,
  "metadata": {
    "colab": {
      "name": "Assignment_3.ipynb",
      "provenance": [],
      "authorship_tag": "ABX9TyOJWrJuyDZJ9RAsCWnc5hfz",
      "include_colab_link": true
    },
    "kernelspec": {
      "name": "python3",
      "display_name": "Python 3"
    }
  },
  "cells": [
    {
      "cell_type": "markdown",
      "metadata": {
        "id": "view-in-github",
        "colab_type": "text"
      },
      "source": [
        "<a href=\"https://colab.research.google.com/github/arjredy/DATA-690-WANG/blob/master/Assignment_3.ipynb\" target=\"_parent\"><img src=\"https://colab.research.google.com/assets/colab-badge.svg\" alt=\"Open In Colab\"/></a>"
      ]
    },
    {
      "cell_type": "code",
      "metadata": {
        "id": "YHdrwHN2JBKA",
        "colab_type": "code",
        "colab": {}
      },
      "source": [
        "import random"
      ],
      "execution_count": 1,
      "outputs": []
    },
    {
      "cell_type": "code",
      "metadata": {
        "id": "kdBhvllNJEOm",
        "colab_type": "code",
        "colab": {
          "base_uri": "https://localhost:8080/",
          "height": 248
        },
        "outputId": "207e339f-6f89-49c9-dae8-b4809b672d20"
      },
      "source": [
        "print('*'*33)\n",
        "col_sum = [0]*10              # Assign the sum of columns as 0 \n",
        "for i in range(10):\n",
        "  summation = 0               # Initialize sum = 0\n",
        "  print(\"*\",end=\" \")\n",
        "  for j in range(10):\n",
        "    r = random.randint(0,9)   # Print random integers from 0 to 9\n",
        "    col_sum[j]+=r             # append the column values\n",
        "    summation+=r              # append the row values\n",
        "    if r%2==1:\n",
        "      print('@',end=\"  \")     # If the value is an odd number replace the number with '@'\n",
        "    else:\n",
        "      print(r,end=\"  \")       # If the value is an even number print the number\n",
        "  print('*',summation)        # Print * at end of each row and print the sum of the row at the end.\n",
        "print('*'*33)\n",
        "print(''*2,end=\" \")\n",
        "for i in col_sum:             # At the end of each column print the sum\n",
        "  print(i,end=\" \")"
      ],
      "execution_count": 2,
      "outputs": [
        {
          "output_type": "stream",
          "text": [
            "*********************************\n",
            "* @  @  0  @  4  @  0  2  4  2  * 40\n",
            "* 0  @  2  4  @  @  @  0  4  0  * 26\n",
            "* 2  @  8  2  0  @  @  4  2  0  * 29\n",
            "* 2  6  2  @  @  @  @  @  @  @  * 43\n",
            "* @  @  6  @  @  @  8  @  6  @  * 59\n",
            "* 0  2  @  @  @  @  @  @  @  0  * 39\n",
            "* 4  8  2  @  @  4  4  @  @  @  * 57\n",
            "* 6  4  8  4  8  @  @  2  0  6  * 48\n",
            "* 2  @  6  0  @  @  0  2  @  2  * 24\n",
            "* @  6  @  6  @  4  @  @  @  @  * 43\n",
            "*********************************\n",
            " 29 51 46 45 47 46 36 33 37 38 "
          ],
          "name": "stdout"
        }
      ]
    },
    {
      "cell_type": "code",
      "metadata": {
        "id": "pPYmpnKUJHIr",
        "colab_type": "code",
        "colab": {}
      },
      "source": [
        ""
      ],
      "execution_count": null,
      "outputs": []
    }
  ]
}