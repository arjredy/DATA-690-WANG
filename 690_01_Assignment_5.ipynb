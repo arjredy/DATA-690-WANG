{
  "nbformat": 4,
  "nbformat_minor": 0,
  "metadata": {
    "colab": {
      "name": "690_01_Assignment_5.ipynb",
      "provenance": [],
      "collapsed_sections": [],
      "authorship_tag": "ABX9TyPuMJ5s3QTZfDmrWCSXWviq",
      "include_colab_link": true
    },
    "kernelspec": {
      "name": "python3",
      "display_name": "Python 3"
    }
  },
  "cells": [
    {
      "cell_type": "markdown",
      "metadata": {
        "id": "view-in-github",
        "colab_type": "text"
      },
      "source": [
        "<a href=\"https://colab.research.google.com/github/arjredy/DATA-690-WANG/blob/master/690_01_Assignment_5.ipynb\" target=\"_parent\"><img src=\"https://colab.research.google.com/assets/colab-badge.svg\" alt=\"Open In Colab\"/></a>"
      ]
    },
    {
      "cell_type": "code",
      "metadata": {
        "id": "T-PXZOtMwVkA",
        "colab_type": "code",
        "colab": {}
      },
      "source": [
        "# Importing Libraries\n",
        "import math"
      ],
      "execution_count": 1,
      "outputs": []
    },
    {
      "cell_type": "markdown",
      "metadata": {
        "id": "1OmUrIgWnvhj",
        "colab_type": "text"
      },
      "source": [
        "**1. Write code to open the text file census_cost.txt and read all lines into a list named \"line_list\". Print line_list**"
      ]
    },
    {
      "cell_type": "code",
      "metadata": {
        "id": "KsGsoQsh4Q2x",
        "colab_type": "code",
        "colab": {}
      },
      "source": [
        "# Opening the 'census_cost.txt' file\n",
        "with open('census_cost.txt','r') as f:\n",
        "  line_list = f.readlines()"
      ],
      "execution_count": 2,
      "outputs": []
    },
    {
      "cell_type": "code",
      "metadata": {
        "id": "tnr_DgKX4Q67",
        "colab_type": "code",
        "colab": {
          "base_uri": "https://localhost:8080/",
          "height": 461
        },
        "outputId": "f6300fde-27f8-4986-aa19-79a5d8398e37"
      },
      "source": [
        "# Displaying the text file\n",
        "line_list"
      ],
      "execution_count": 3,
      "outputs": [
        {
          "output_type": "execute_result",
          "data": {
            "text/plain": [
              "['Source: https://www.genealogybranches.com/censuscosts.html\\n',\n",
              " 'Census Year\\tTotal Population\\tCensus Cost\\tAverage Cost Per Person\\n',\n",
              " '1790\\t3,929,214\\t$44,377\\t1.13 cents\\n',\n",
              " '1800\\t5,308,483\\t$66,109\\t1.24 cents\\n',\n",
              " '1810\\t7,239,881\\t$178,445\\t2.46 cents\\n',\n",
              " '1820\\t9,633,822\\t$208,526\\t2.16 cents\\n',\n",
              " '1830\\t12,866,020\\t$378,545\\t2.94 cents\\n',\n",
              " '1840\\t17,069,458\\t$833,371\\t4.88 cents\\n',\n",
              " '1850\\t23,191,876\\t$1,423,351\\t6.14 cents\\n',\n",
              " '1860\\t31,443,321\\t$1,969,377\\t6.26 cents\\n',\n",
              " '1870\\t38,558,371\\t$3,421,198\\t8.87 cents\\n',\n",
              " '1880\\t50,155,783\\t$5,790,678\\t11.54 cents\\n',\n",
              " '1890\\t62,979,766\\t$11,547,127\\t18.33 cents\\n',\n",
              " '1900\\t76,303,387\\t$11,854,000\\t15.54 cents\\n',\n",
              " '1910\\t91,972,266\\t$15,968,000\\t17.07 cents\\n',\n",
              " '1920\\t105,710,620\\t$25,117,000\\t23.76 cents\\n',\n",
              " '1930\\t122,775,046\\t$40,156,000\\t32.71 cents\\n',\n",
              " '1940\\t131,669,275\\t$67,527,000\\t51.29 cents\\n',\n",
              " '1950\\t151,325,798\\t$91,462,000\\t60.44 cents\\n',\n",
              " '1960\\t179,323,175\\t$127,934,000\\t71.34 cents\\n',\n",
              " '1970\\t203,302,031\\t$247,653,000\\t$1.22\\n',\n",
              " '1980\\t226,542,199\\t$1,078,488,000\\t$4.76\\n',\n",
              " '1990\\t248,718,301\\t$2,492,830,000\\t$10.02\\n',\n",
              " '2000\\t281,421,906\\t$4.5 Billion\\t$15.99\\n',\n",
              " '2010*\\t308,745,538\\t$13 Billion\\t$42.11']"
            ]
          },
          "metadata": {
            "tags": []
          },
          "execution_count": 3
        }
      ]
    },
    {
      "cell_type": "markdown",
      "metadata": {
        "id": "vZCygNqyn__a",
        "colab_type": "text"
      },
      "source": [
        "**2. Extract the first two lines and put them in a different list named \"top2_list\". You will need to use them later. Print the top2_list.**"
      ]
    },
    {
      "cell_type": "code",
      "metadata": {
        "id": "-ANV2Eqh4RGF",
        "colab_type": "code",
        "colab": {}
      },
      "source": [
        "# Storing top 2 lines into top2_list\n",
        "top2_list = line_list[0:2]"
      ],
      "execution_count": 4,
      "outputs": []
    },
    {
      "cell_type": "code",
      "metadata": {
        "id": "q3fjkaTD4RMQ",
        "colab_type": "code",
        "colab": {
          "base_uri": "https://localhost:8080/",
          "height": 52
        },
        "outputId": "0e573277-480c-4210-ea2c-b4dbf653a762"
      },
      "source": [
        "# Displaying top 2 lines\n",
        "top2_list"
      ],
      "execution_count": 5,
      "outputs": [
        {
          "output_type": "execute_result",
          "data": {
            "text/plain": [
              "['Source: https://www.genealogybranches.com/censuscosts.html\\n',\n",
              " 'Census Year\\tTotal Population\\tCensus Cost\\tAverage Cost Per Person\\n']"
            ]
          },
          "metadata": {
            "tags": []
          },
          "execution_count": 5
        }
      ]
    },
    {
      "cell_type": "markdown",
      "metadata": {
        "id": "L8V-IlCnoIDF",
        "colab_type": "text"
      },
      "source": [
        "**3. Put the rest of the lines (containing useful data elements) in a new list named \"data_list\". Print data_list.** "
      ]
    },
    {
      "cell_type": "code",
      "metadata": {
        "id": "KjsKO23K4RTO",
        "colab_type": "code",
        "colab": {}
      },
      "source": [
        "# Storing rest of the file \n",
        "data_list = line_list[2:]"
      ],
      "execution_count": 6,
      "outputs": []
    },
    {
      "cell_type": "code",
      "metadata": {
        "id": "V-fWmaHA4RZT",
        "colab_type": "code",
        "colab": {
          "base_uri": "https://localhost:8080/",
          "height": 426
        },
        "outputId": "0fcf3cf2-f112-488a-bb8a-f46ff60d10e3"
      },
      "source": [
        "data_list"
      ],
      "execution_count": 7,
      "outputs": [
        {
          "output_type": "execute_result",
          "data": {
            "text/plain": [
              "['1790\\t3,929,214\\t$44,377\\t1.13 cents\\n',\n",
              " '1800\\t5,308,483\\t$66,109\\t1.24 cents\\n',\n",
              " '1810\\t7,239,881\\t$178,445\\t2.46 cents\\n',\n",
              " '1820\\t9,633,822\\t$208,526\\t2.16 cents\\n',\n",
              " '1830\\t12,866,020\\t$378,545\\t2.94 cents\\n',\n",
              " '1840\\t17,069,458\\t$833,371\\t4.88 cents\\n',\n",
              " '1850\\t23,191,876\\t$1,423,351\\t6.14 cents\\n',\n",
              " '1860\\t31,443,321\\t$1,969,377\\t6.26 cents\\n',\n",
              " '1870\\t38,558,371\\t$3,421,198\\t8.87 cents\\n',\n",
              " '1880\\t50,155,783\\t$5,790,678\\t11.54 cents\\n',\n",
              " '1890\\t62,979,766\\t$11,547,127\\t18.33 cents\\n',\n",
              " '1900\\t76,303,387\\t$11,854,000\\t15.54 cents\\n',\n",
              " '1910\\t91,972,266\\t$15,968,000\\t17.07 cents\\n',\n",
              " '1920\\t105,710,620\\t$25,117,000\\t23.76 cents\\n',\n",
              " '1930\\t122,775,046\\t$40,156,000\\t32.71 cents\\n',\n",
              " '1940\\t131,669,275\\t$67,527,000\\t51.29 cents\\n',\n",
              " '1950\\t151,325,798\\t$91,462,000\\t60.44 cents\\n',\n",
              " '1960\\t179,323,175\\t$127,934,000\\t71.34 cents\\n',\n",
              " '1970\\t203,302,031\\t$247,653,000\\t$1.22\\n',\n",
              " '1980\\t226,542,199\\t$1,078,488,000\\t$4.76\\n',\n",
              " '1990\\t248,718,301\\t$2,492,830,000\\t$10.02\\n',\n",
              " '2000\\t281,421,906\\t$4.5 Billion\\t$15.99\\n',\n",
              " '2010*\\t308,745,538\\t$13 Billion\\t$42.11']"
            ]
          },
          "metadata": {
            "tags": []
          },
          "execution_count": 7
        }
      ]
    },
    {
      "cell_type": "markdown",
      "metadata": {
        "id": "pOQBEu77o_Xw",
        "colab_type": "text"
      },
      "source": [
        "**6. Extract the \"Census Cost\" column from the data_list and assign them to a list named \"cost_list\". Remove the \",\", and \"$\", and \"Billion\". Make sure to add the \"0\"s to the numbers from which you removed \"Billion\". Print the cleansed cost_list.**"
      ]
    },
    {
      "cell_type": "code",
      "metadata": {
        "id": "NphB7XRI4RgQ",
        "colab_type": "code",
        "colab": {}
      },
      "source": [
        "# Formatting ',' and '$'\n",
        "def getFormattedCost(cost):\n",
        "  cost = cost.replace(',','')\n",
        "  cost = cost.replace('$','')\n",
        "  if 'Billion' in cost:\n",
        "    cost = cost.replace(\"Billion\",\"\")\n",
        "    cost = float(cost)*(math.pow(10,9))\n",
        "    cost = str(int(cost))\n",
        "  return cost\n",
        "\n",
        "# getFormattedCost('4.5 Billion')"
      ],
      "execution_count": 8,
      "outputs": []
    },
    {
      "cell_type": "code",
      "metadata": {
        "id": "FeVW3Di1pv_K",
        "colab_type": "code",
        "colab": {
          "base_uri": "https://localhost:8080/",
          "height": 426
        },
        "outputId": "569611bf-9b06-45fd-e447-f695f4086f02"
      },
      "source": [
        "cost_list"
      ],
      "execution_count": 17,
      "outputs": [
        {
          "output_type": "execute_result",
          "data": {
            "text/plain": [
              "['44377',\n",
              " '66109',\n",
              " '178445',\n",
              " '208526',\n",
              " '378545',\n",
              " '833371',\n",
              " '1423351',\n",
              " '1969377',\n",
              " '3421198',\n",
              " '5790678',\n",
              " '11547127',\n",
              " '11854000',\n",
              " '15968000',\n",
              " '25117000',\n",
              " '40156000',\n",
              " '67527000',\n",
              " '91462000',\n",
              " '127934000',\n",
              " '247653000',\n",
              " '1078488000',\n",
              " '2492830000',\n",
              " '4500000000',\n",
              " '13000000000']"
            ]
          },
          "metadata": {
            "tags": []
          },
          "execution_count": 17
        }
      ]
    },
    {
      "cell_type": "markdown",
      "metadata": {
        "id": "Y4iOHbTipMxT",
        "colab_type": "text"
      },
      "source": [
        "**7. Extract the \"Average Cost per Person\" column from the data_list and assign them to a list named \"avg_list\". Remove the \"cents\", and \"$\". Make sure to divide the numbers in cents by 100 so that all numbers are measured in dollar. Print the cleansed avg_list.**"
      ]
    },
    {
      "cell_type": "code",
      "metadata": {
        "id": "4LSDU09G4Rm5",
        "colab_type": "code",
        "colab": {}
      },
      "source": [
        "# Formatting '$','\\t','\\n'\n",
        "def getFormattedAvgCost(cost):\n",
        "  cost = cost.replace('$','')\n",
        "  cost = cost.replace('\\t','')\n",
        "  cost = cost.replace('\\n','')\n",
        "  if 'cents' in cost:\n",
        "    # print(\"Cost \",cost)\n",
        "    cost = cost.replace('cents','')\n",
        "    cost = float(cost)/100\n",
        "  return str(cost)"
      ],
      "execution_count": 9,
      "outputs": []
    },
    {
      "cell_type": "code",
      "metadata": {
        "id": "RyIJA0w1p3K_",
        "colab_type": "code",
        "colab": {
          "base_uri": "https://localhost:8080/",
          "height": 426
        },
        "outputId": "5a567248-527a-45ed-dabe-2effbbf494c7"
      },
      "source": [
        "avg_list"
      ],
      "execution_count": 18,
      "outputs": [
        {
          "output_type": "execute_result",
          "data": {
            "text/plain": [
              "['0.0113',\n",
              " '0.0124',\n",
              " '0.0246',\n",
              " '0.0216',\n",
              " '0.0294',\n",
              " '0.048799999999999996',\n",
              " '0.061399999999999996',\n",
              " '0.0626',\n",
              " '0.08869999999999999',\n",
              " '0.11539999999999999',\n",
              " '0.1833',\n",
              " '0.15539999999999998',\n",
              " '0.1707',\n",
              " '0.2376',\n",
              " '0.3271',\n",
              " '0.5129',\n",
              " '0.6043999999999999',\n",
              " '0.7134',\n",
              " '1.22',\n",
              " '4.76',\n",
              " '10.02',\n",
              " '15.99',\n",
              " '42.11']"
            ]
          },
          "metadata": {
            "tags": []
          },
          "execution_count": 18
        }
      ]
    },
    {
      "cell_type": "code",
      "metadata": {
        "id": "ElBXgM-24Rer",
        "colab_type": "code",
        "colab": {}
      },
      "source": [
        "# Storing the values according to its list\n",
        "year_list = []\n",
        "pop_list = []\n",
        "cost_list = []\n",
        "avg_list = []\n",
        "for i in data_list:\n",
        "  line = i.split('\\t')\n",
        "  line = list(filter(None,line))\n",
        "  year_list.append(line[0])\n",
        "  pop_list.append(line[1].replace(',',''))\n",
        "  cost_list.append(getFormattedCost(line[2]))\n",
        "  avg_list.append(getFormattedAvgCost(line[3]))\n"
      ],
      "execution_count": 10,
      "outputs": []
    },
    {
      "cell_type": "markdown",
      "metadata": {
        "id": "GW5Z31yNotXH",
        "colab_type": "text"
      },
      "source": [
        "**4. Extract the column \"Census Year\" from data_list and assign them to a list named year_list. Remove the \"\" from the last element \"2010\". Print the cleansed year_list.**"
      ]
    },
    {
      "cell_type": "code",
      "metadata": {
        "id": "T7-X_7bZ4RXk",
        "colab_type": "code",
        "colab": {
          "base_uri": "https://localhost:8080/",
          "height": 408
        },
        "outputId": "9cf9cc05-b8b5-42cd-9cff-b2d84685cf3d"
      },
      "source": [
        "year_list.pop()\n",
        "year_list"
      ],
      "execution_count": 11,
      "outputs": [
        {
          "output_type": "execute_result",
          "data": {
            "text/plain": [
              "['1790',\n",
              " '1800',\n",
              " '1810',\n",
              " '1820',\n",
              " '1830',\n",
              " '1840',\n",
              " '1850',\n",
              " '1860',\n",
              " '1870',\n",
              " '1880',\n",
              " '1890',\n",
              " '1900',\n",
              " '1910',\n",
              " '1920',\n",
              " '1930',\n",
              " '1940',\n",
              " '1950',\n",
              " '1960',\n",
              " '1970',\n",
              " '1980',\n",
              " '1990',\n",
              " '2000']"
            ]
          },
          "metadata": {
            "tags": []
          },
          "execution_count": 11
        }
      ]
    },
    {
      "cell_type": "markdown",
      "metadata": {
        "id": "QEcssw9Ro4Pm",
        "colab_type": "text"
      },
      "source": [
        "**5. Extract the \"Total Population\" column from the data_list and assign them to a list named \"pop_list\". Remove the \",\" from the numbers since Python doesn't recognize them. Print the cleansed \"pop_list\".**"
      ]
    },
    {
      "cell_type": "code",
      "metadata": {
        "id": "4m_gjN2u4RRC",
        "colab_type": "code",
        "colab": {
          "base_uri": "https://localhost:8080/",
          "height": 426
        },
        "outputId": "cd05a90e-68b6-47c4-f37a-cfe0dc2a87ca"
      },
      "source": [
        "pop_list"
      ],
      "execution_count": 12,
      "outputs": [
        {
          "output_type": "execute_result",
          "data": {
            "text/plain": [
              "['3929214',\n",
              " '5308483',\n",
              " '7239881',\n",
              " '9633822',\n",
              " '12866020',\n",
              " '17069458',\n",
              " '23191876',\n",
              " '31443321',\n",
              " '38558371',\n",
              " '50155783',\n",
              " '62979766',\n",
              " '76303387',\n",
              " '91972266',\n",
              " '105710620',\n",
              " '122775046',\n",
              " '131669275',\n",
              " '151325798',\n",
              " '179323175',\n",
              " '203302031',\n",
              " '226542199',\n",
              " '248718301',\n",
              " '281421906',\n",
              " '308745538']"
            ]
          },
          "metadata": {
            "tags": []
          },
          "execution_count": 12
        }
      ]
    },
    {
      "cell_type": "markdown",
      "metadata": {
        "id": "bixRxDHepa2I",
        "colab_type": "text"
      },
      "source": [
        "**8. Coalesce the cleansed data and save them to a text file named \"census_cost.csv\". The new file should look similar to the original source file except that it is in comma-delimited format and the numbers have been cleansed. The top two lines from the original file should be retained in the new file.**"
      ]
    },
    {
      "cell_type": "code",
      "metadata": {
        "id": "kK7JZHL14Q0e",
        "colab_type": "code",
        "colab": {}
      },
      "source": [
        "\n",
        "import itertools\n",
        "with open('census_cost.csv','a') as f:\n",
        "  first_line = top2_list[0].replace('\\n','').split('\\t')\n",
        "  second_line = top2_list[1].replace('\\n','').split('\\t')\n",
        "  first_line = list(filter(None,first_line))\n",
        "  second_line = list(filter(None,second_line))\n",
        "  f.write(\"{}\\n\".format(','.join(first_line)))\n",
        "  f.write(\"{}\\n\".format(','.join(second_line)))\n",
        "  for (a, b, c, d) in zip(year_list, pop_list, cost_list, avg_list):\n",
        "    line = a+','+b+','+c+','+d\n",
        "    f.write(\"{}\\n\".format(line))"
      ],
      "execution_count": 15,
      "outputs": []
    },
    {
      "cell_type": "markdown",
      "metadata": {
        "id": "wYWfJ4JCpfVC",
        "colab_type": "text"
      },
      "source": [
        "**9. Coalesce the cleansed data and save them to a text file named \"census_cost.csv\". The new file should look similar to the original source file except that it is in comma-delimited format and the numbers have been cleansed. The top two lines from the original file should be retained in the new file.**"
      ]
    },
    {
      "cell_type": "code",
      "metadata": {
        "id": "CT3EFRCk40fi",
        "colab_type": "code",
        "colab": {
          "base_uri": "https://localhost:8080/",
          "height": 461
        },
        "outputId": "8a9e8863-a1f4-45fb-b7f2-b298d8a0238d"
      },
      "source": [
        "with open('census_cost.csv','r') as f:\n",
        "  print(f.read())"
      ],
      "execution_count": 16,
      "outputs": [
        {
          "output_type": "stream",
          "text": [
            "Source: https://www.genealogybranches.com/censuscosts.html\n",
            "Census Year,Total Population,Census Cost,Average Cost Per Person\n",
            "1790,3929214,44377,0.0113\n",
            "1800,5308483,66109,0.0124\n",
            "1810,7239881,178445,0.0246\n",
            "1820,9633822,208526,0.0216\n",
            "1830,12866020,378545,0.0294\n",
            "1840,17069458,833371,0.048799999999999996\n",
            "1850,23191876,1423351,0.061399999999999996\n",
            "1860,31443321,1969377,0.0626\n",
            "1870,38558371,3421198,0.08869999999999999\n",
            "1880,50155783,5790678,0.11539999999999999\n",
            "1890,62979766,11547127,0.1833\n",
            "1900,76303387,11854000,0.15539999999999998\n",
            "1910,91972266,15968000,0.1707\n",
            "1920,105710620,25117000,0.2376\n",
            "1930,122775046,40156000,0.3271\n",
            "1940,131669275,67527000,0.5129\n",
            "1950,151325798,91462000,0.6043999999999999\n",
            "1960,179323175,127934000,0.7134\n",
            "1970,203302031,247653000,1.22\n",
            "1980,226542199,1078488000,4.76\n",
            "1990,248718301,2492830000,10.02\n",
            "2000,281421906,4500000000,15.99\n",
            "\n"
          ],
          "name": "stdout"
        }
      ]
    }
  ]
}