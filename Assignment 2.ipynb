{
 "cells": [
  {
   "cell_type": "code",
   "execution_count": 1,
   "metadata": {},
   "outputs": [
    {
     "name": "stdout",
     "output_type": "stream",
     "text": [
      "Please enter 10 integers seperated by a space\n",
      "1 2 3 4 5 6 7 8 9 1\n",
      "Displaying Entered Elements\n",
      "\n",
      "1 2 3 4 5 6 7 8 9 1 \n",
      "\n",
      "Minimum Value in the list:  1\n",
      "\n",
      "Maximum Value in the list:  9\n",
      "\n",
      "Range:  (1, 9) \n",
      "\n",
      "Mean of elements:  4.6 \n",
      "\n",
      "Standard Deviation: 2.875181153713043\n",
      "Variance: 8.266666666666666\n"
     ]
    }
   ],
   "source": [
    "import statistics \n",
    "\n",
    "def askInput():\n",
    "  return list(map(int,input(\"Please enter 10 integers seperated by a space\\n\").split()))\n",
    "\n",
    "n = 10\n",
    "try:\n",
    "  a =  askInput()\n",
    "except:\n",
    "  print(\"*************Only Integers are allowed. Please try again*****************\\n\")\n",
    "  a = askInput()\n",
    "if len(a)!=10:\n",
    "  print(\"Required 10 integers. Please try again\")\n",
    "else: \n",
    "  print(\"Displaying Entered Elements\\n\")\n",
    "  for i in a:\n",
    "    print(i,end=\" \")\n",
    "  print(\"\\n\")\n",
    "  print(\"Minimum Value in the list: \",str(min(a))+\"\\n\")\n",
    "  print(\"Maximum Value in the list: \",str(max(a))+\"\\n\")\n",
    "  print(\"Range: \",(min(a),max(a)),\"\\n\")\n",
    "  print(\"Mean of elements: \",statistics.mean(a),\"\\n\")\n",
    "  print(\"Standard Deviation: %s\"%(statistics.stdev(a)))\n",
    "  print(\"Variance: %s\"%(statistics.variance(a)))\n",
    "      \n",
    "    # print(\"Please enter integers\")"
   ]
  },
  {
   "cell_type": "code",
   "execution_count": null,
   "metadata": {},
   "outputs": [],
   "source": []
  }
 ],
 "metadata": {
  "kernelspec": {
   "display_name": "Python 3",
   "language": "python",
   "name": "python3"
  },
  "language_info": {
   "codemirror_mode": {
    "name": "ipython",
    "version": 3
   },
   "file_extension": ".py",
   "mimetype": "text/x-python",
   "name": "python",
   "nbconvert_exporter": "python",
   "pygments_lexer": "ipython3",
   "version": "3.7.3"
  }
 },
 "nbformat": 4,
 "nbformat_minor": 2
}
