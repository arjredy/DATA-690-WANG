{
  "nbformat": 4,
  "nbformat_minor": 0,
  "metadata": {
    "colab": {
      "name": "Arjun_Assignment_09.ipynb",
      "provenance": [],
      "include_colab_link": true
    },
    "kernelspec": {
      "display_name": "Python 3",
      "language": "python",
      "name": "python3"
    },
    "language_info": {
      "codemirror_mode": {
        "name": "ipython",
        "version": 3
      },
      "file_extension": ".py",
      "mimetype": "text/x-python",
      "name": "python",
      "nbconvert_exporter": "python",
      "pygments_lexer": "ipython3",
      "version": "3.8.6"
    }
  },
  "cells": [
    {
      "cell_type": "markdown",
      "metadata": {
        "id": "view-in-github",
        "colab_type": "text"
      },
      "source": [
        "<a href=\"https://colab.research.google.com/github/arjredy/DATA-690-WANG/blob/master/Arjun_Assignment_09.ipynb\" target=\"_parent\"><img src=\"https://colab.research.google.com/assets/colab-badge.svg\" alt=\"Open In Colab\"/></a>"
      ]
    },
    {
      "cell_type": "markdown",
      "metadata": {
        "id": "-2fQAV7J6oI1"
      },
      "source": [
        "### Assignment 8\n",
        "For this assignment , we will use the college scorecard dataset. \n",
        "<pre>\n",
        "From the 22 individual school year data files, randomly (using Python) select one file. \n",
        "Only read the column \"TUITIONFEE_IN\" frm this file into a data frame.\n",
        "Find out how many observations this data frame has.\n",
        "Find out how many observations that have missing value. Drop those observations.\n",
        "Find out how many observations that have value of zero. Drop those observations.\n",
        "Calculate the mean of the tuition.\n",
        "Randomly select one observation, find out the tuition of that observation.\n",
        "Calculate the different between the tuition of this observation and the average tuition (mean) off all observations above.\n",
        "Randomly select another observation and repeat the above.\n",
        "Randomly select another observation and repeat the above.\n",
        "Randomly select 5 observations, display the tuition of these observation.\n",
        "Calculate the average of these 5 observations\n",
        "Calculate the different between the average tuition of thes 5 observations and the average tuition (mean) off all observations above.\n",
        "Randomly select another 5 observations and repeat the above.\n",
        "Randomly select another 5 observation and repeat the above.\n",
        "\n",
        "Randomly select 10 observations, display the tuition of these observation.\n",
        "Calculate the average of these 10 observations\n",
        "Calculate the different between the average tuition of thes 10 observations and the average tuition (mean) off all observations above.\n",
        "Randomly select another 10 observations and repeat the above.\n",
        "Randomly select another 10 observation and repeat the above.\n",
        "\n",
        "\n",
        "Randomly select 20 observations, display the tuition of these observation.\n",
        "Calculate the average of these 20 observations\n",
        "Calculate the different between the average tuition of thes 10 observations and the average tuition (mean) off all observations above.\n",
        "Randomly select another 20 observations and repeat the above.\n",
        "Randomly select another 20 observation and repeat the above.\n",
        "\n",
        "Randomly select 30 observations, display the tuition of these observation.\n",
        "Calculate the average of these 30 observations\n",
        "Calculate the different between the average tuition of thes 10 observations and the average tuition (mean) off all observations above.\n",
        "Randomly select another 30 observations and repeat the above.\n",
        "Randomly select another 30 observation and repeat the above.\n",
        "\n",
        "Write a function that take an input x (number of observations). \n",
        "The function will perform the following:\n",
        "\n",
        "Randomly select x observations, display the tuition of these observations.\n",
        "Calculate the average of these x observations\n",
        "Calculate the different between the average tuition of these x observations and the average tuition (mean) off all observations above.\n",
        "Display the difference.\n",
        "<pre>\n"
      ]
    },
    {
      "cell_type": "code",
      "metadata": {
        "id": "HpZckaJR6oI8"
      },
      "source": [
        "# 1 - Import necessary libraries\n",
        "import pandas as pd\n",
        "import random\n",
        "import os\n",
        "import statistics as st\n",
        "import math\n"
      ],
      "execution_count": null,
      "outputs": []
    },
    {
      "cell_type": "code",
      "metadata": {
        "id": "pOmT1mjX1zyQ"
      },
      "source": [
        "%config IPCompleter.greedy=True"
      ],
      "execution_count": null,
      "outputs": []
    },
    {
      "cell_type": "code",
      "metadata": {
        "id": "6qafjqpb6oJC",
        "outputId": "62347f54-63bc-483e-d242-6e20eeb69471"
      },
      "source": [
        "# 2 - Retrieve the names of the 22 files and assign them to a List variable\n",
        "# You would need to filter out other files\n",
        "# Display the names of these 22 files\n",
        "files = os.listdir('./CollegeScorecard_Raw_Data')\n",
        "files = [file for file in files if 'MERGED' in file]\n",
        "print(files)\n"
      ],
      "execution_count": null,
      "outputs": [
        {
          "output_type": "execute_result",
          "data": {
            "text/plain": [
              "['MERGED1996_97_PP.csv',\n",
              " 'MERGED1997_98_PP.csv',\n",
              " 'MERGED1998_99_PP.csv',\n",
              " 'MERGED1999_00_PP.csv',\n",
              " 'MERGED2000_01_PP.csv',\n",
              " 'MERGED2001_02_PP.csv',\n",
              " 'MERGED2002_03_PP.csv',\n",
              " 'MERGED2003_04_PP.csv',\n",
              " 'MERGED2004_05_PP.csv',\n",
              " 'MERGED2005_06_PP.csv',\n",
              " 'MERGED2006_07_PP.csv',\n",
              " 'MERGED2007_08_PP.csv',\n",
              " 'MERGED2008_09_PP.csv',\n",
              " 'MERGED2009_10_PP.csv',\n",
              " 'MERGED2010_11_PP.csv',\n",
              " 'MERGED2011_12_PP.csv',\n",
              " 'MERGED2012_13_PP.csv',\n",
              " 'MERGED2013_14_PP.csv',\n",
              " 'MERGED2014_15_PP.csv',\n",
              " 'MERGED2015_16_PP.csv',\n",
              " 'MERGED2016_17_PP.csv',\n",
              " 'MERGED2017_18_PP.csv',\n",
              " 'MERGED2018_19_PP.csv']"
            ]
          },
          "metadata": {
            "tags": []
          },
          "execution_count": 11
        }
      ]
    },
    {
      "cell_type": "code",
      "metadata": {
        "id": "ft9Rn1lp6oJG",
        "outputId": "394d9208-d308-42a5-de25-54de8356d94f"
      },
      "source": [
        "# 3 - Write code to randomly select one file name out of the 22 files names. \n",
        "# Hint: generate a random integer between 0 and 21 first\n",
        "# Display the file name\n",
        "\n",
        "selected_file = files[random.randint(0,21)]\n",
        "print(selected_file)"
      ],
      "execution_count": null,
      "outputs": [
        {
          "output_type": "stream",
          "text": [
            "MERGED2004_05_PP.csv\n"
          ],
          "name": "stdout"
        }
      ]
    },
    {
      "cell_type": "code",
      "metadata": {
        "id": "DJy1hmWM6oJN",
        "outputId": "30c46180-419e-43c0-ea42-75f6e5a926ad"
      },
      "source": [
        "# 4 - Only read the two columns: college name (INSTNM) and in state tution (\"TUITIONFEE_IN\")\n",
        "# from this file into a data frame aand display use info() function to display a summary information\n",
        "\n",
        "df = pd.read_csv(r'./CollegeScorecard_Raw_Data/'+selected_file,usecols=['INSTNM','TUITIONFEE_IN'])\n",
        "df.info()\n"
      ],
      "execution_count": null,
      "outputs": [
        {
          "output_type": "stream",
          "text": [
            "<class 'pandas.core.frame.DataFrame'>\n",
            "RangeIndex: 6747 entries, 0 to 6746\n",
            "Data columns (total 2 columns):\n",
            " #   Column         Non-Null Count  Dtype  \n",
            "---  ------         --------------  -----  \n",
            " 0   INSTNM         6747 non-null   object \n",
            " 1   TUITIONFEE_IN  4188 non-null   float64\n",
            "dtypes: float64(1), object(1)\n",
            "memory usage: 105.5+ KB\n"
          ],
          "name": "stdout"
        }
      ]
    },
    {
      "cell_type": "code",
      "metadata": {
        "id": "wU5Ozu106oJR",
        "outputId": "24a04bad-7cea-4c32-8725-eefa910d9fdb"
      },
      "source": [
        "# 5 - Find out how many observations have missing value.\n",
        "df.isnull().sum()\n"
      ],
      "execution_count": null,
      "outputs": [
        {
          "output_type": "execute_result",
          "data": {
            "text/plain": [
              "INSTNM              0\n",
              "TUITIONFEE_IN    2559\n",
              "dtype: int64"
            ]
          },
          "metadata": {
            "tags": []
          },
          "execution_count": 29
        }
      ]
    },
    {
      "cell_type": "code",
      "metadata": {
        "id": "V0MTbBwv6oJW",
        "outputId": "3ae67b95-5874-4482-c5ee-82b9ab78f17b"
      },
      "source": [
        "# 6 - Drop those observations with missing value\n",
        "# Disaply the number of observations afterward\n",
        "df = df.dropna() \n",
        "df.shape"
      ],
      "execution_count": null,
      "outputs": [
        {
          "output_type": "execute_result",
          "data": {
            "text/plain": [
              "(4188, 2)"
            ]
          },
          "metadata": {
            "tags": []
          },
          "execution_count": 31
        }
      ]
    },
    {
      "cell_type": "code",
      "metadata": {
        "id": "A-pfpASe6oJb",
        "outputId": "8f057eba-ea10-41e6-dfd1-52ca41b26eaf"
      },
      "source": [
        "# 7 - Find out how many observations have 0 tution. \n",
        "zero_tuition = df[df['TUITIONFEE_IN']==0]\n",
        "zero_tuition.shape\n",
        "#There are 7 observations with tuition fee as 0"
      ],
      "execution_count": null,
      "outputs": [
        {
          "output_type": "execute_result",
          "data": {
            "text/plain": [
              "(7, 2)"
            ]
          },
          "metadata": {
            "tags": []
          },
          "execution_count": 37
        }
      ]
    },
    {
      "cell_type": "code",
      "metadata": {
        "id": "UUp2iUlM6oJk",
        "outputId": "d68aa110-49e3-4243-aeac-fa140328eeb8"
      },
      "source": [
        "# 8 - Drop those observations with 0 tuition\n",
        "# Disaply the number of observations afterward\n",
        "df = df[df['TUITIONFEE_IN']!=0]\n",
        "df.shape"
      ],
      "execution_count": null,
      "outputs": [
        {
          "output_type": "execute_result",
          "data": {
            "text/plain": [
              "(4181, 2)"
            ]
          },
          "metadata": {
            "tags": []
          },
          "execution_count": 39
        }
      ]
    },
    {
      "cell_type": "code",
      "metadata": {
        "id": "vXjrc9Km6oJq",
        "outputId": "9d6989ad-6b82-4691-da9a-5578ba6872c7"
      },
      "source": [
        "# 9 - Calculate and display the mean (average) of the tuitions of all the remaining observations \n",
        "average_fee = st.mean(df['TUITIONFEE_IN'])\n",
        "print('Average Tuition Fees ', average_fee )\n"
      ],
      "execution_count": null,
      "outputs": [
        {
          "output_type": "stream",
          "text": [
            "Average Tuition Fees  9008.092083233676\n"
          ],
          "name": "stdout"
        }
      ]
    },
    {
      "cell_type": "code",
      "metadata": {
        "id": "Yyk1Kx456oJv",
        "outputId": "9e280245-85c0-4b4a-aa48-c1cdf6757110"
      },
      "source": [
        "# 10 - Randomly select just 1 observation from the data frame.\n",
        "# Display the tuition of that observation. \n",
        "row = df.loc[[random.randint(0,df.shape[0])]]\n",
        "print(row)"
      ],
      "execution_count": null,
      "outputs": [
        {
          "output_type": "stream",
          "text": [
            "                           INSTNM  TUITIONFEE_IN\n",
            "896  Nova Southeastern University        15820.0\n"
          ],
          "name": "stdout"
        }
      ]
    },
    {
      "cell_type": "code",
      "metadata": {
        "id": "2Jio5eDc6oJ0",
        "outputId": "90ab46e4-f82d-4c9c-d038-3b73a8de735d"
      },
      "source": [
        "# 11 - Calculate the different between the tuition of this observation and \n",
        "# the mean tuition off all observations calculated earlier.\n",
        "# Display the difference\n",
        "print(row['TUITIONFEE_IN']-average_fee)"
      ],
      "execution_count": null,
      "outputs": [
        {
          "output_type": "stream",
          "text": [
            "896    6811.907917\n",
            "Name: TUITIONFEE_IN, dtype: float64\n"
          ],
          "name": "stdout"
        }
      ]
    },
    {
      "cell_type": "code",
      "metadata": {
        "id": "E7RIjD8E6oJ5"
      },
      "source": [
        "# 12 - Repeat 10 to 11 several times get the feel of the size of the difference in means"
      ],
      "execution_count": null,
      "outputs": []
    },
    {
      "cell_type": "code",
      "metadata": {
        "id": "X7P4DGbi6oJ-",
        "outputId": "b8ec9e96-fd24-4613-cbb7-813309ecb253"
      },
      "source": [
        "# 13 - Randomly select 20 observations, display the tuition of these observation. \n",
        "random_observations = df.sample(20)\n",
        "random_observations"
      ],
      "execution_count": null,
      "outputs": [
        {
          "output_type": "execute_result",
          "data": {
            "text/html": [
              "<div>\n",
              "<style scoped>\n",
              "    .dataframe tbody tr th:only-of-type {\n",
              "        vertical-align: middle;\n",
              "    }\n",
              "\n",
              "    .dataframe tbody tr th {\n",
              "        vertical-align: top;\n",
              "    }\n",
              "\n",
              "    .dataframe thead th {\n",
              "        text-align: right;\n",
              "    }\n",
              "</style>\n",
              "<table border=\"1\" class=\"dataframe\">\n",
              "  <thead>\n",
              "    <tr style=\"text-align: right;\">\n",
              "      <th></th>\n",
              "      <th>INSTNM</th>\n",
              "      <th>TUITIONFEE_IN</th>\n",
              "    </tr>\n",
              "  </thead>\n",
              "  <tbody>\n",
              "    <tr>\n",
              "      <th>5477</th>\n",
              "      <td>Florida National University-Main Campus</td>\n",
              "      <td>9410.0</td>\n",
              "    </tr>\n",
              "    <tr>\n",
              "      <th>5418</th>\n",
              "      <td>Gibson Technical Center</td>\n",
              "      <td>4700.0</td>\n",
              "    </tr>\n",
              "    <tr>\n",
              "      <th>5408</th>\n",
              "      <td>University of Phoenix-Southern California Campus</td>\n",
              "      <td>12360.0</td>\n",
              "    </tr>\n",
              "    <tr>\n",
              "      <th>1262</th>\n",
              "      <td>Rockford University</td>\n",
              "      <td>21200.0</td>\n",
              "    </tr>\n",
              "    <tr>\n",
              "      <th>3646</th>\n",
              "      <td>Pennsylvania School of Business</td>\n",
              "      <td>7500.0</td>\n",
              "    </tr>\n",
              "    <tr>\n",
              "      <th>3228</th>\n",
              "      <td>Kaplan College-Columbus</td>\n",
              "      <td>9169.0</td>\n",
              "    </tr>\n",
              "    <tr>\n",
              "      <th>1460</th>\n",
              "      <td>Mercy College of Health Sciences</td>\n",
              "      <td>11300.0</td>\n",
              "    </tr>\n",
              "    <tr>\n",
              "      <th>325</th>\n",
              "      <td>Columbia College</td>\n",
              "      <td>660.0</td>\n",
              "    </tr>\n",
              "    <tr>\n",
              "      <th>4294</th>\n",
              "      <td>Snow College</td>\n",
              "      <td>1800.0</td>\n",
              "    </tr>\n",
              "    <tr>\n",
              "      <th>804</th>\n",
              "      <td>Bethune-Cookman University</td>\n",
              "      <td>10610.0</td>\n",
              "    </tr>\n",
              "    <tr>\n",
              "      <th>627</th>\n",
              "      <td>Westmont College</td>\n",
              "      <td>26240.0</td>\n",
              "    </tr>\n",
              "    <tr>\n",
              "      <th>4310</th>\n",
              "      <td>Goddard College</td>\n",
              "      <td>9846.0</td>\n",
              "    </tr>\n",
              "    <tr>\n",
              "      <th>1048</th>\n",
              "      <td>Savannah College of Art and Design</td>\n",
              "      <td>20250.0</td>\n",
              "    </tr>\n",
              "    <tr>\n",
              "      <th>212</th>\n",
              "      <td>University of Arkansas-Fort Smith</td>\n",
              "      <td>2250.0</td>\n",
              "    </tr>\n",
              "    <tr>\n",
              "      <th>4628</th>\n",
              "      <td>University of Wisconsin-Platteville</td>\n",
              "      <td>4808.0</td>\n",
              "    </tr>\n",
              "    <tr>\n",
              "      <th>5964</th>\n",
              "      <td>City College-Miami</td>\n",
              "      <td>8160.0</td>\n",
              "    </tr>\n",
              "    <tr>\n",
              "      <th>1953</th>\n",
              "      <td>Mount Holyoke College</td>\n",
              "      <td>30770.0</td>\n",
              "    </tr>\n",
              "    <tr>\n",
              "      <th>764</th>\n",
              "      <td>Tunxis Community College</td>\n",
              "      <td>2406.0</td>\n",
              "    </tr>\n",
              "    <tr>\n",
              "      <th>1528</th>\n",
              "      <td>Johnson County Community College</td>\n",
              "      <td>1860.0</td>\n",
              "    </tr>\n",
              "    <tr>\n",
              "      <th>3081</th>\n",
              "      <td>University of Mount Olive</td>\n",
              "      <td>10950.0</td>\n",
              "    </tr>\n",
              "  </tbody>\n",
              "</table>\n",
              "</div>"
            ],
            "text/plain": [
              "                                                INSTNM  TUITIONFEE_IN\n",
              "5477           Florida National University-Main Campus         9410.0\n",
              "5418                           Gibson Technical Center         4700.0\n",
              "5408  University of Phoenix-Southern California Campus        12360.0\n",
              "1262                               Rockford University        21200.0\n",
              "3646                   Pennsylvania School of Business         7500.0\n",
              "3228                           Kaplan College-Columbus         9169.0\n",
              "1460                  Mercy College of Health Sciences        11300.0\n",
              "325                                   Columbia College          660.0\n",
              "4294                                      Snow College         1800.0\n",
              "804                         Bethune-Cookman University        10610.0\n",
              "627                                   Westmont College        26240.0\n",
              "4310                                   Goddard College         9846.0\n",
              "1048                Savannah College of Art and Design        20250.0\n",
              "212                  University of Arkansas-Fort Smith         2250.0\n",
              "4628               University of Wisconsin-Platteville         4808.0\n",
              "5964                                City College-Miami         8160.0\n",
              "1953                             Mount Holyoke College        30770.0\n",
              "764                           Tunxis Community College         2406.0\n",
              "1528                  Johnson County Community College         1860.0\n",
              "3081                         University of Mount Olive        10950.0"
            ]
          },
          "metadata": {
            "tags": []
          },
          "execution_count": 56
        }
      ]
    },
    {
      "cell_type": "code",
      "metadata": {
        "id": "2kvz1whj6oKA",
        "outputId": "e9659af1-456e-41e0-9d09-fb35ceaf1b8e"
      },
      "source": [
        "# 14 - Calculate and displat the mean tuition of these 20 observations\n",
        "mean_random_obs = st.mean(random_observations['TUITIONFEE_IN'])\n",
        "print('Average Tuition fee of Random Observations :', mean_random_obs)"
      ],
      "execution_count": null,
      "outputs": [
        {
          "output_type": "stream",
          "text": [
            "Average Tuition fee of Random Observations : 10312.45\n"
          ],
          "name": "stdout"
        }
      ]
    },
    {
      "cell_type": "code",
      "metadata": {
        "id": "7qZe_Xn-6oKE",
        "outputId": "bb17026f-98ad-47ab-8c09-c7b053fce845"
      },
      "source": [
        "# 15 - Calculate  the different between the average tuition of these 20 observations \n",
        "# and the mean tuition off all observations calculated earlier.\n",
        "# Display the difference\n",
        "mean_diff = mean_random_obs-average_fee\n",
        "print('Difference between Random observations and previous observations ',mean_diff)"
      ],
      "execution_count": null,
      "outputs": [
        {
          "output_type": "stream",
          "text": [
            "Difference between Random observations and previous observations  1304.3579167663247\n"
          ],
          "name": "stdout"
        }
      ]
    },
    {
      "cell_type": "code",
      "metadata": {
        "id": "V7xgI6GU6oKH"
      },
      "source": [
        "# 16 - Repeat 13 to 15 several times and get the feel of the size of the difference in means \n",
        "# Compare these differences with the differences calculated earlier with just 1 observation\n",
        "# Describe your hunch/conclusion"
      ],
      "execution_count": null,
      "outputs": []
    },
    {
      "cell_type": "markdown",
      "metadata": {
        "id": "0i4lLySc6oKK"
      },
      "source": [
        "Write a function that take two input parameters:\n",
        "- x (number of observations) \n",
        "- y (the name of the dataframe). \n",
        "\n",
        "The function will perform the following: \n",
        "- Randomly select x observations from y\n",
        "- Calculate the mean of these x observations \n",
        "- Calculate the mean of all observations\n",
        "- Calculate the difference between the two means \n",
        "- Return the difference"
      ]
    },
    {
      "cell_type": "code",
      "metadata": {
        "id": "ZblkuSq46oKL"
      },
      "source": [
        "# 17 - write function Code here\n",
        "def mean_difference(x,y):\n",
        "    random_obs = y.sample(x)\n",
        "    mean_random_obs = st.mean(random_obs['TUITIONFEE_IN'])\n",
        "    total_mean = st.mean(y['TUITIONFEE_IN'])\n",
        "    return abs(mean_random_obs-total_mean)"
      ],
      "execution_count": null,
      "outputs": []
    },
    {
      "cell_type": "code",
      "metadata": {
        "id": "rCtsaGCy6oKN",
        "outputId": "c74c37e2-6940-424e-c7f6-111d35de441e"
      },
      "source": [
        "# 18 - test the function by passing a sample size and the name of the dataframe\n",
        "# Dsplay the return of the function\n",
        "random_sample = 30\n",
        "print('Mean of random sample: ',mean_difference(30,df))\n"
      ],
      "execution_count": null,
      "outputs": [
        {
          "output_type": "stream",
          "text": [
            "Mean of random sample:  1408.5587499003423\n"
          ],
          "name": "stdout"
        }
      ]
    },
    {
      "cell_type": "code",
      "metadata": {
        "id": "0I58wyGH6oKP",
        "outputId": "d2981f52-743a-4e9b-8134-cd40fa221b29"
      },
      "source": [
        "# 19 - Create a list of sequence numbers from 1 to 50, name it \"sample_sizes\";\n",
        "# display it to make sure its members are from 1 to 50\n",
        "sample_sizes = [i for i in range(1,51)]\n",
        "print(sample_sizes)\n"
      ],
      "execution_count": null,
      "outputs": [
        {
          "output_type": "stream",
          "text": [
            "[1, 2, 3, 4, 5, 6, 7, 8, 9, 10, 11, 12, 13, 14, 15, 16, 17, 18, 19, 20, 21, 22, 23, 24, 25, 26, 27, 28, 29, 30, 31, 32, 33, 34, 35, 36, 37, 38, 39, 40, 41, 42, 43, 44, 45, 46, 47, 48, 49, 50]\n"
          ],
          "name": "stdout"
        }
      ]
    },
    {
      "cell_type": "code",
      "metadata": {
        "id": "sBWwbejh6oKR",
        "outputId": "5b93c5af-a421-42ef-a9fd-1e29ef20c9cb"
      },
      "source": [
        "# 20 - Create an empty list and name it \"means_diff\" for differences of population mean and sample means;\n",
        "# Loop through the list sample_sizes:\n",
        "# For each element in the sample size list, obtain a random sample of that size from the data frame;\n",
        "# Calculate the sample mean \n",
        "# Calculate the difference between the population mean and the sample mean\n",
        "# Append the difference to the list \"means_diff\"\n",
        "# Display the list \"means_diff\" after the loop is completed\n",
        "\n",
        "def calculateMeanDifference(sample_sizes,df):\n",
        "    means_diff = []\n",
        "    population_mean = st.mean(df['TUITIONFEE_IN'])\n",
        "    for i in sample_sizes:\n",
        "        sample_df = df.sample(i)\n",
        "        sample_mean = st.mean(sample_df['TUITIONFEE_IN'])\n",
        "        means_diff.append(abs(sample_mean-population_mean))\n",
        "    return means_diff\n",
        "    \n",
        "print('Means_diff List after the loop :')\n",
        "means_diff = calculateMeanDifference(sample_sizes,df)\n",
        "print(means_diff)\n"
      ],
      "execution_count": null,
      "outputs": [
        {
          "output_type": "stream",
          "text": [
            "Means_diff List after the loop :\n",
            "[6533.092083233676, 6941.092083233676, 3705.241250099658, 711.342083233676, 3518.907916766324, 2252.925416567009, 3451.234940376533, 3548.717083233676, 952.3143054558986, 2391.407916766324, 2545.364810506403, 1000.592083233676, 1250.5233013817087, 2049.092083233676, 2884.8254165670096, 1354.717083233676, 1378.1432108839708, 1182.092083233676, 1821.0394516547285, 1791.1420832336762, 1236.2825594241522, 1106.907916766324, 1640.874691929328, 2570.82458343299, 2725.6279167663233, 1024.5617629201697, 167.9068980484917, 1376.4135118051045, 532.3679453026416, 240.57458343299004, 2154.7143683792274, 2053.876666766324, 1555.273901415494, 620.5626714689697, 234.50791676632434, 725.4531943447873, 1284.0650562066494, 1081.4341884968335, 1254.425416567009, 1147.9579167663233, 1493.0189125019688, 707.1635118051054, 52.21024234771903, 2534.703371311778, 74.73013898854697, 2077.734003722846, 893.6239981272929, 859.071249900343, 2585.540569827548, 745.4320832336762]\n"
          ],
          "name": "stdout"
        }
      ]
    },
    {
      "cell_type": "code",
      "metadata": {
        "id": "CZxUYK6b6oKU",
        "outputId": "6cf28df2-cd0a-4063-8d33-06ef74030af6"
      },
      "source": [
        "# 21 - Make a scatter plot with sample size on the x-axs and  mean difference on the y-axis\n",
        "# Observe as the sample size increases, the sample means converge to the population mean.\n",
        "# Make sure you make the plot large enough \n",
        "import matplotlib.pyplot as plt\n",
        "plt.scatter(sample_sizes,means_diff)\n"
      ],
      "execution_count": null,
      "outputs": [
        {
          "output_type": "execute_result",
          "data": {
            "text/plain": [
              "<matplotlib.collections.PathCollection at 0x22f9b0e3a60>"
            ]
          },
          "metadata": {
            "tags": []
          },
          "execution_count": 85
        },
        {
          "output_type": "display_data",
          "data": {
            "image/png": "[encoded data removed]",
            "text/plain": [
              "<Figure size 432x288 with 1 Axes>"
            ]
          },
          "metadata": {
            "tags": [],
            "needs_background": "light"
          }
        }
      ]
    },
    {
      "cell_type": "code",
      "metadata": {
        "id": "tD8z_VyB6oKW",
        "outputId": "fb72c880-b380-4873-b7f9-0ae119c44b84"
      },
      "source": [
        "# 22 - repeat 18 to 21 by replacing 50 with a larger number. For example, 300, or even 1000.\n",
        "# and see how the plot looks.\n",
        "sample_sizes = [i for i in range(1,1001)]\n",
        "means_diff = calculateMeanDifference(sample_sizes,df)\n",
        "plt.scatter(sample_sizes,means_diff)\n"
      ],
      "execution_count": null,
      "outputs": [
        {
          "output_type": "execute_result",
          "data": {
            "text/plain": [
              "<matplotlib.collections.PathCollection at 0x22f9b142e80>"
            ]
          },
          "metadata": {
            "tags": []
          },
          "execution_count": 86
        },
        {
          "output_type": "display_data",
          "data": {
            "image/png": "[encoded data removed]",
            "text/plain": [
              "<Figure size 432x288 with 1 Axes>"
            ]
          },
          "metadata": {
            "tags": [],
            "needs_background": "light"
          }
        }
      ]
    },
    {
      "cell_type": "code",
      "metadata": {
        "id": "MjqbewGC6oKZ"
      },
      "source": [
        "# The end - Give yourself a pat on the back!"
      ],
      "execution_count": null,
      "outputs": []
    }
  ]
}