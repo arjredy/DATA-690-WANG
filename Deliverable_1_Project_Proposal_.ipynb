{
  "nbformat": 4,
  "nbformat_minor": 0,
  "metadata": {
    "colab": {
      "name": "Deliverable_1_Project_Proposal .ipynb",
      "provenance": [],
      "authorship_tag": "ABX9TyNwQb4aEuWC+7dKIDNDrqJY",
      "include_colab_link": true
    },
    "kernelspec": {
      "name": "python3",
      "display_name": "Python 3"
    }
  },
  "cells": [
    {
      "cell_type": "markdown",
      "metadata": {
        "id": "view-in-github",
        "colab_type": "text"
      },
      "source": [
        "<a href=\"https://colab.research.google.com/github/arjredy/DATA-690-WANG/blob/master/Deliverable_1_Project_Proposal_.ipynb\" target=\"_parent\"><img src=\"https://colab.research.google.com/assets/colab-badge.svg\" alt=\"Open In Colab\"/></a>"
      ]
    },
    {
      "cell_type": "markdown",
      "metadata": {
        "id": "RuLHQoaBh4go"
      },
      "source": [
        "# Deliverable #1 - Project Proposal in Markdown format"
      ]
    },
    {
      "cell_type": "markdown",
      "metadata": {
        "id": "PlpfA560iB0l"
      },
      "source": [
        "**1. What is your issue of interest (provide sufficient background information)?**\n",
        "\n",
        "After a lot of research on which topics to select for the project, I choose to project the seasonal crops across all the states in India along with the average temperatures and conditions in which they are grown. With the help of two datasets, I am trying to find the crop details like the crop name, its production and in which state and district it is grown in India. Along with these I would also like to project which type of crop is grown in which season under which type of temperatures across a period of time.\n"
      ]
    },
    {
      "cell_type": "markdown",
      "metadata": {
        "id": "_WVBFuLSiBw7"
      },
      "source": [
        "**2. Why is this issue important to you and/or to others?**\n",
        "\n",
        "As many people do not know about what are the seasonal crops and which crop to harvest under certain weather circumstances, I believe this data clarifies the doubts of many individuals and also it provides an insight to everyone who are looking to know about the seasonal crops grown in India."
      ]
    },
    {
      "cell_type": "markdown",
      "metadata": {
        "id": "rGdlxrKHiBuY"
      },
      "source": [
        "**3. What questions do you have in mind and would like to answer?**\n",
        "\n",
        "Some of the questions which run continuously in my mind after looking at the datasets are:\n",
        "\n",
        "1. Whihc crop is grown across how many states in a perticular year, and what is the crop that is grown across the states in an year.\n",
        "\n",
        "2. Also check the seasonal crop production for a certain year and its details like in which district of a state they are grown along with its area and production.\n",
        "\n",
        "3. Which state has highest variety of crop yeild and under what temperature the crops are grown for an year.\n",
        "\n",
        "4. Plotting the number of crops grown in each state.\n",
        "\n",
        "5. Plotting the mean of crop production and area for every year to check the consistancy of production year wise"
      ]
    },
    {
      "cell_type": "markdown",
      "metadata": {
        "id": "JmZGZxdSiBfu"
      },
      "source": [
        "**4. Where do you get the data to help answer your questions?**\n",
        "\n",
        "Datasets can be downloaded from Kaggle.com. As most of the data is available in datasets, it would be easy for processing the data. Along with this, websites like ***Wikipedia*** also provides good information about the crops."
      ]
    },
    {
      "cell_type": "markdown",
      "metadata": {
        "id": "fUbzOdy4iBPe"
      },
      "source": [
        "**5. What will be your unit of analysis (for example, patient, organization, or country)? Roughly how many units do you expect to analyze?**\n",
        "\n",
        "Unit of analysis would be State Name, District Name, Year, Season, Area, Production. Roughly I expect 6 units for my analysis. "
      ]
    },
    {
      "cell_type": "markdown",
      "metadata": {
        "id": "VSQA-GGLvwtk"
      },
      "source": [
        "**6. What variables/measures do you plan to use in your analysis?**\n",
        "\n",
        "Variables like State Name, District Name, Year, Season, Area, Production will be used in my analysis."
      ]
    },
    {
      "cell_type": "markdown",
      "metadata": {
        "id": "-kf6eUtovwUc"
      },
      "source": [
        "**7. What kinds of techniques do you you plan to use (for example, summary statistics, scatter plot, bar chart, chi-squared test)?**\n",
        "\n",
        "Data processing, bar charts, pie chart and statistics from the data."
      ]
    }
  ]
}