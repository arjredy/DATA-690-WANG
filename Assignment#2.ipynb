{
 "cells": [
  {
   "cell_type": "markdown",
   "metadata": {},
   "source": [
    "# Assignment 2"
   ]
  },
  {
   "cell_type": "markdown",
   "metadata": {},
   "source": [
    "Prompts a user to enter 10 integers. If the user enters anything other than integers, remind her that only integers are allowed and let her retry. Don't allow the user to enter more than 10 or less than 10 integers. Display the 10 integers back to the user at the end. Calculate the following statistics from the 10 integers entered:\n",
    "\n",
    "1. Minimum\n",
    "\n",
    "2. Maximum\n",
    "\n",
    "3. Range\n",
    "\n",
    "4. Mean\n",
    "\n",
    "5. Variance\n",
    "\n",
    "6. Standard Deviation"
   ]
  },
  {
   "cell_type": "code",
   "execution_count": 1,
   "metadata": {},
   "outputs": [],
   "source": [
    "# Import math Library\n",
    "import math"
   ]
  },
  {
   "cell_type": "code",
   "execution_count": 2,
   "metadata": {},
   "outputs": [],
   "source": [
    "# Function to accept the input\n",
    "def askInput():\n",
    "  return list(map(int,input(\"Please enter 10 integers seperated by a space\\n\").split()))\n",
    "\n",
    "# Function to find the mean\n",
    "def mean(elements):\n",
    "  return sum(elements)/len(elements)\n",
    "\n",
    "# Function to find the SD\n",
    "def standard_deviation(variance):\n",
    "  return math.sqrt(variance)\n",
    "\n",
    "# Function to find the Variance\n",
    "def variance(elements,mean_value):\n",
    "  result = 0\n",
    "  for i in elements:\n",
    "    result+= (i-mean_value)*(i-mean_value)\n",
    "  return result/len(elements)\n"
   ]
  },
  {
   "cell_type": "code",
   "execution_count": 3,
   "metadata": {},
   "outputs": [
    {
     "name": "stdout",
     "output_type": "stream",
     "text": [
      "Please enter 10 integers seperated by a space\n",
      "1 2 3 4 5 6 7 8 9 1\n",
      "Displaying Entered Elements\n",
      "\n",
      "1 2 3 4 5 6 7 8 9 1 \n",
      "\n",
      "Minimum Value in the list:  1\n",
      "\n",
      "Maximum Value in the list:  9\n",
      "\n",
      "Range:  (1, 9) \n",
      "\n",
      "Mean of elements:  4.6 \n",
      "\n",
      "Variance: 7.4399999999999995\n",
      "Standard Deviation: 2.727636339397171\n"
     ]
    }
   ],
   "source": [
    "n = 10\n",
    "try:\n",
    "  a =  askInput()\n",
    "except:\n",
    "  print(\"*************Only Integers are allowed. Please try again*****************\\n\")\n",
    "  a = askInput()\n",
    "if len(a)!=10:\n",
    "  print(\"Required 10 integers. Please try again\")\n",
    "else: \n",
    "  print(\"Displaying Entered Elements\\n\")\n",
    "  for i in a:\n",
    "    print(i,end=\" \")\n",
    "  print(\"\\n\")\n",
    "  print(\"Minimum Value in the list: \",str(min(a))+\"\\n\")\n",
    "  print(\"Maximum Value in the list: \",str(max(a))+\"\\n\")\n",
    "  print(\"Range: \",(min(a),max(a)),\"\\n\")\n",
    "  mean_value = mean(a)\n",
    "  print(\"Mean of elements: \",mean_value,\"\\n\")\n",
    "  variance_value = variance(a,mean_value)\n",
    "  print(\"Variance: %s\"%(variance_value))\n",
    "  print(\"Standard Deviation: %s\"%(standard_deviation(variance_value)))\n",
    "      \n",
    "    # print(\"Please enter integers\")"
   ]
  }
 ],
 "metadata": {
  "kernelspec": {
   "display_name": "Python 3",
   "language": "python",
   "name": "python3"
  },
  "language_info": {
   "codemirror_mode": {
    "name": "ipython",
    "version": 3
   },
   "file_extension": ".py",
   "mimetype": "text/x-python",
   "name": "python",
   "nbconvert_exporter": "python",
   "pygments_lexer": "ipython3",
   "version": "3.7.3"
  }
 },
 "nbformat": 4,
 "nbformat_minor": 2
}
